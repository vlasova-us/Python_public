{
 "cells": [
  {
   "cell_type": "code",
   "execution_count": null,
   "id": "839c94bc",
   "metadata": {},
   "outputs": [],
   "source": [
    "!pip install requests\n",
    "!pip install dbfread\n",
    "!pip install dbf\n",
    "!pip install sqlalchemy\n",
    "!pip install psycopg2\n",
    "\n",
    "import sqlalchemy\n",
    "from sqlalchemy import create_engine\n",
    "from sqlalchemy.engine.url import URL\n",
    "\n",
    "import dbf\n",
    "from dbfread import DBF # Документация https://dbfread.readthedocs.io/en/latest/changes.html\n",
    "\n",
    "from pandas import DataFrame\n",
    "import time\n",
    "import pandas as pd\n",
    "import numpy as np\n",
    "\n",
    "import requests\n",
    "from bs4 import BeautifulSoup\n",
    "import re\n",
    "import json\n",
    "\n",
    "pd.set_option(\"display.max_rows\", 50)\n",
    "pd.set_option(\"display.max_columns\", 200)"
   ]
  },
  {
   "cell_type": "markdown",
   "id": "0ae041b6",
   "metadata": {},
   "source": [
    "# 1 задача. Поиск и запись почтовых индексов в файл dbf (поиск через подключение к внутренней БД)"
   ]
  },
  {
   "cell_type": "code",
   "execution_count": null,
   "id": "00143b83",
   "metadata": {},
   "outputs": [],
   "source": [
    "def null_string(path_file):\n",
    "    '''Функция открывает файл, указанный в переменной path_file. В этот файл в колонку POST_IDX (почтовый индекс) \n",
    "    производит запись пустой строки'''\n",
    "    dbf_ls = dbf.Table(path_file)\n",
    "    dbf_ls.open(dbf.READ_WRITE)\n",
    "\n",
    "    # loop over records\n",
    "    for record in dbf_ls:\n",
    "        with record:\n",
    "            record['POST_IDX'] = '' #записываем пустую строку \n",
    "    \n",
    "    dbf_ls.close()"
   ]
  },
  {
   "cell_type": "code",
   "execution_count": null,
   "id": "6faf3220",
   "metadata": {},
   "outputs": [],
   "source": [
    "# чтение из БД\n",
    "def index_from_bd ():\n",
    "    '''Функция выполняет запрос к базе postgres и возвращает DataFrame с двумя колонками: FIASHOUSE,  POST_IDX'''\n",
    "        \n",
    "    df_index = pd.read_sql (\n",
    "    \"\"\"\n",
    "    with house as (  \n",
    "                    select ah.objectguid, ah.objectid  -- получение кода ГАР дома\n",
    "                    from as_houses ah  \n",
    "                    where ah.isactual = 1 and ah.isactive = 1\n",
    "                    ), \n",
    "        params as(\n",
    "                    select ahp.objectid, ahp.value  \n",
    "                    from as_houses_params ahp \n",
    "                    where ahp.typeid = 5 -- почтовый индекс\n",
    "                    )\n",
    "    select house.objectguid as \"FIASHOUSE\", params.value as \"POST_IDX\"\n",
    "    from house\n",
    "    left join params on house.objectid = params.objectid \n",
    "\n",
    "    \"\"\",\n",
    "    \"postgresql://pgadmin:1111@ррр/postgres\" # вместо 1111 поставить пароль, вместо ррр поставить хост\n",
    "    )\n",
    "    return df_index\n"
   ]
  },
  {
   "cell_type": "code",
   "execution_count": null,
   "id": "ae78cac4",
   "metadata": {},
   "outputs": [],
   "source": [
    "# чтение файла DBF\n",
    "def read_file(path_file):\n",
    "    global dbf_table\n",
    "    '''Функция получает на вход dbf файл, открывает его и сохраняет как DataFrame'''\n",
    "    dbf_table = DBF(path_file)\n",
    "    dbf_table = DataFrame(iter(dbf_table))\n",
    "    return dbf_table "
   ]
  },
  {
   "cell_type": "code",
   "execution_count": null,
   "id": "b90cb75b",
   "metadata": {},
   "outputs": [],
   "source": [
    "def join_table(path_file):\n",
    "    '''Функция получает путь к файлу Dbf, передает этот путь в функцию read_file и получает DataFrame (dbf_table) из данных \n",
    "    dbf файла. К dbf_table присодиняется второй DataFrame (df_index), полученный по запросу к БД, по коду ГАР \n",
    "    (до уровня дом). Функция возвращет объединенный файл'''\n",
    "    global df_join\n",
    "    df_join = read_file(path_file).merge (index_from_bd(), left_on = 'FIASHOUSE', right_on = 'FIASHOUSE', how = 'inner')\n",
    "    \n",
    "    return df_join"
   ]
  },
  {
   "cell_type": "code",
   "execution_count": null,
   "id": "860079ef",
   "metadata": {},
   "outputs": [],
   "source": [
    "def post_from_df_schet(SCHET):\n",
    "    '''функция берет на вход номер счета из строки df_join. Ищется соответсвие номеру счета в df_join и dbf. \n",
    "    Возвращает почтовый индекс конкретного счета'''\n",
    "    k = df_join.loc[df_join['SCHET'] == SCHET]\n",
    "    return int (k.iloc[0]['POST_IDX_y'])"
   ]
  },
  {
   "cell_type": "code",
   "execution_count": null,
   "id": "267223c2",
   "metadata": {},
   "outputs": [],
   "source": [
    "#запись в dbf\n",
    "def record_file(path_file):\n",
    "    '''Функция открывает по пути (path_file) файл dbf и производит в него запись почтового индекса в колонку \n",
    "    POST_IDX из df_join  '''\n",
    "    dbf_ls = dbf.Table(path_file)\n",
    "    dbf_ls.open(dbf.READ_WRITE)\n",
    "\n",
    "    # loop over records\n",
    "    for record in dbf_ls:\n",
    "        with record:\n",
    "            record['POST_IDX'] = str(post_from_df_schet (record['SCHET'].strip())) #удаляем пробелы из записи со счетом из dbf. Присваиваем найденный почтовый индекс из df\n",
    "    \n",
    "    dbf_ls.close()"
   ]
  },
  {
   "cell_type": "code",
   "execution_count": null,
   "id": "6b630208",
   "metadata": {},
   "outputs": [],
   "source": [
    "def main():\n",
    "    path_file = input('Введите полный путь к файлу с двумя \\\\, например C:\\\\Users\\\\ПК\\\\Desktop\\\\название файла.dbf: ')\n",
    "    null_string(path_file) #Записываем пустую строку в колонку POST_IDX\n",
    "    print('В файл dbf записана пустая строка')\n",
    "    join_table(path_file) # Соединяем исходный файл по коду ФИАС с запросом к БД, получаем новую колонку с индексом\n",
    "    print('Объединили DataFarme из dbf с запросом SQL, получили почтовые индексы по кодам ГАР до уровня дом')\n",
    "    record_file(path_file) # Записываем в исходный файл найденный индекс\n",
    "    print ('Почтовые индексы записаны в файл dbf. Задача выполнена')"
   ]
  },
  {
   "cell_type": "code",
   "execution_count": null,
   "id": "f8132a1e",
   "metadata": {},
   "outputs": [],
   "source": [
    "if __name__ == \"__main__\":\n",
    "    main()\n"
   ]
  },
  {
   "cell_type": "markdown",
   "id": "fec3716c",
   "metadata": {},
   "source": [
    "## Проверка записанных значений"
   ]
  },
  {
   "cell_type": "code",
   "execution_count": null,
   "id": "0d327db0",
   "metadata": {},
   "outputs": [],
   "source": [
    "dbf_table = DBF('') # указать путь к файлу\n",
    "dbf_table = DataFrame(iter(dbf_table))\n",
    "dbf_table\n"
   ]
  },
  {
   "cell_type": "code",
   "execution_count": null,
   "id": "55ffb900",
   "metadata": {},
   "outputs": [],
   "source": [
    "dbf_table [dbf_table['FIAS'].str.contains('^$', regex=True)] # проверка на пустые значения"
   ]
  },
  {
   "cell_type": "markdown",
   "id": "d222dc88",
   "metadata": {},
   "source": [
    "# 2 задача. Поиск и запись почтовых индексов в файл dbf (поиск через API налоговой)\n"
   ]
  },
  {
   "cell_type": "code",
   "execution_count": null,
   "id": "c51db412",
   "metadata": {},
   "outputs": [],
   "source": [
    "# Загрузка dbf в DataFrame\n",
    "dbf_table = DBF('') # указать путь к файлу\n",
    "dbf_table = DataFrame(iter(dbf_table))\n",
    "#Очищаем колонку индекс\n",
    "dbf_table ['POST_IDX'] = dbf_table ['POST_IDX'].str.replace(r'^\\d+', '', regex=True)\n",
    "dbf_table"
   ]
  },
  {
   "cell_type": "code",
   "execution_count": null,
   "id": "2d1a10bb",
   "metadata": {},
   "outputs": [],
   "source": [
    "# Если работаем с частью файла, который ранее выгрузили из dbf в Excel\n",
    "dbf_table = pd.read_excel ('').fillna('') # поставить путь к файлу, сразу удаляем NaN\n",
    "dbf_table"
   ]
  },
  {
   "cell_type": "code",
   "execution_count": null,
   "id": "a5dc5c39",
   "metadata": {},
   "outputs": [],
   "source": [
    "for i, row in dbf_table.iloc [0:10000, :].iterrows():\n",
    "    headers = {\n",
    "        'accept': 'application/json',\n",
    "        'master-token': '' # указать мастер-токен\n",
    "            }\n",
    "\n",
    "    params = {\n",
    "        'object_guid': row ['FIASHOUSE'],\n",
    "        'address_type': '2'\n",
    "            }\n",
    "\n",
    "    response = requests.get(\n",
    "        'https://fias-public-service.nalog.ru/api/spas/v2.0/GetAddressItemByGuid',\n",
    "        params=params,\n",
    "        headers=headers\n",
    "        )\n",
    "    \n",
    "    if (response.status_code != 204 and response.headers[\"content-type\"].strip().startswith(\"application/json\")):\n",
    "        try:\n",
    "            json = response.json()\n",
    "            dbf_table.loc [i,'POST_IDX'] = json['addresses'][0]['address_details']['postal_code'] # почтовый индекс\n",
    "            \n",
    "        except JSONDecodeError:\n",
    "            print ('ошибка JSONDecodeError')\n",
    "        except ConnectionError:\n",
    "            print ('разрыв соединения')\n",
    "    \n",
    "    \n",
    "    time.sleep(0.03)  "
   ]
  },
  {
   "cell_type": "code",
   "execution_count": null,
   "id": "97a5a23c",
   "metadata": {},
   "outputs": [],
   "source": [
    "# фильтр по обработанным строкам\n",
    "dbf_table_done = dbf_table [~dbf_table ['POST_IDX'].str.contains('^$', regex=True) ]                              \n",
    "dbf_table_done.to_excel('1 часть.xlsx', index=False)\n",
    "\n",
    "# фильтр по НЕ обработанным строкам\n",
    "dbf_table_not_done = dbf_table [dbf_table ['POST_IDX'].str.contains('^$', regex=True) ]                            \n",
    "dbf_table_not_done.to_excel('Не выполнено после 1 прогона.xlsx', index=False)"
   ]
  },
  {
   "cell_type": "markdown",
   "id": "65cea6bb",
   "metadata": {},
   "source": [
    "# 3 задача. Работа с Excel файлами на исправление (поиск через API налоговой)"
   ]
  },
  {
   "cell_type": "code",
   "execution_count": null,
   "id": "f6a41f1f",
   "metadata": {},
   "outputs": [],
   "source": [
    "# чтение файла\n",
    "df = pd.read_excel ('') # указать путь к файлу\n",
    "df"
   ]
  },
  {
   "cell_type": "code",
   "execution_count": null,
   "id": "f1ddc0b9",
   "metadata": {},
   "outputs": [],
   "source": [
    "for i, row in dbf_table.iloc [0:10000, :].iterrows():\n",
    "    headers = {\n",
    "        'accept': 'application/json',\n",
    "        'master-token': '' # указать мастер-токен\n",
    "            }\n",
    "\n",
    "    params = {\n",
    "        'object_guid': row ['FIASHOUSE'],\n",
    "        'address_type': '2'\n",
    "            }\n",
    "\n",
    "    response = requests.get(\n",
    "        'https://fias-public-service.nalog.ru/api/spas/v2.0/GetAddressItemByGuid',\n",
    "        params=params,\n",
    "        headers=headers\n",
    "        )\n",
    "    \n",
    "    if (response.status_code != 204 and response.headers[\"content-type\"].strip().startswith(\"application/json\")):\n",
    "        try:\n",
    "            json = response.json()\n",
    "            dbf_table.loc [i,'POST_IDX_1'] = json['addresses'][0]['address_details']['postal_code'] # почтовый индекс\n",
    "            \n",
    "        except JSONDecodeError:\n",
    "            print ('ошибка JSONDecodeError')\n",
    "        except ConnectionError:\n",
    "            print ('разрыв соединения')\n",
    "    \n",
    "    \n",
    "    time.sleep(0.03)  "
   ]
  },
  {
   "cell_type": "code",
   "execution_count": null,
   "id": "6e843264",
   "metadata": {},
   "outputs": [],
   "source": [
    "#поиск цифровой строки\n",
    "dbf_table ['POST_IDX'] = dbf_table ['POST_IDX'].str.replace(r'^\\d+', '', regex=True)\n",
    "dbf_table"
   ]
  },
  {
   "cell_type": "markdown",
   "id": "252f08f9",
   "metadata": {},
   "source": [
    "# 4 задача. Поиск ФИАС (уровень дом), почтового индекса для ООО Водоснабжение (Пласт) "
   ]
  },
  {
   "cell_type": "code",
   "execution_count": null,
   "id": "0654fcc5",
   "metadata": {},
   "outputs": [],
   "source": [
    "# Чтение файла\n",
    "dbf_table = DBF('') # указать путь к файлу\n",
    "dbf_table = DataFrame(iter(dbf_table))\n",
    "dbf_table\n"
   ]
  },
  {
   "cell_type": "code",
   "execution_count": null,
   "id": "da1d37d7",
   "metadata": {},
   "outputs": [],
   "source": [
    "# Проверка на содержание информации в столбце\n",
    "dbf_table [~dbf_table['HOUSE_LIT'].str.contains('^$', regex=True)]"
   ]
  },
  {
   "cell_type": "code",
   "execution_count": null,
   "id": "a1f94639",
   "metadata": {},
   "outputs": [],
   "source": [
    "for i, row in dbf_table.iloc [0:10000, :].iterrows():\n",
    "    headers = {\n",
    "                'accept': 'application/json',\n",
    "                'master-token': '', #указать мастер-токен\n",
    "                'Content-Type': 'application/json',\n",
    "               }\n",
    "\n",
    "    json_data = {\n",
    "            'region': { 'name': 'Челябинская область'},\n",
    "            'district': {'name': 'Пластовский район'},\n",
    "            'city': { 'name': row['CITY']},\n",
    "            'street': { 'name': row['STREET']},\n",
    "            'house': { 'number': str(row['HOUSE'])}\n",
    "                  }\n",
    "\n",
    "    response = requests.post('https://fias-public-service.nalog.ru/api/spas/v2.0/SearchByParts', headers=headers, json=json_data)\n",
    "    \n",
    "    if (response.status_code != 204 and response.headers[\"content-type\"].strip().startswith(\"application/json\")):\n",
    "        try:\n",
    "            json = response.json()\n",
    "            print(json)\n",
    "            if json['error'] is not None:\n",
    "                dbf_table.loc [i,'FIAS'] = 'Не найден ФИАС до уровня дом' \n",
    "                dbf_table.loc [i,'error'] = json['error'] # текст ошибки\n",
    "                dbf_table.loc [i,'description_inf'] = json['description'] #описание   \n",
    "            else: \n",
    "                dbf_table.loc [i,'FIAS'] = json['address_item']['object_guid'] # код ФИАС до уровня дома \n",
    "                dbf_table.loc [i,'full_name_address'] = json['address_item']['full_name'] # полная строка адреса (муниципальное деление)\n",
    "                dbf_table.loc [i,'POST_IDX'] = json['address_item']['address_details']['postal_code']\n",
    "        \n",
    "        except JSONDecodeError:\n",
    "            print ('ошибка JSONDecodeError')\n",
    "        except ConnectionError:\n",
    "            print ('разрыв соединения')\n",
    "     \n",
    "    time.sleep(0.02)   "
   ]
  },
  {
   "cell_type": "code",
   "execution_count": null,
   "id": "5e6ccca3",
   "metadata": {},
   "outputs": [],
   "source": [
    "# Фильтрация и выгрузка данных\n",
    "dbf_table.to_excel('список без фильтрации.xlsx', index=False)\n",
    "\n",
    "not_found = dbf_table [dbf_table['FIAS'].str.contains('Не найден ФИАС до уровня дом')]\n",
    "not_found.to_excel('Не найдены ФИАС.xlsx', index=False)\n",
    "\n",
    "found = dbf_table [~dbf_table['FIAS'].str.contains('Не найден ФИАС до уровня дом')]\n",
    "found.to_excel('найдены ФИАС.xlsx', index=False)"
   ]
  },
  {
   "cell_type": "code",
   "execution_count": null,
   "id": "8eafeea1",
   "metadata": {},
   "outputs": [],
   "source": [
    "#если работаем с выгрузкой\n",
    "df = pd.read_excel ('', dtype = str).fillna('') # поставить путь к файлу, сразу удаляем NaN\n",
    "df['FIAS'] = df['FIAS'].replace ('Не найден ФИАС до уровня дом', '0')\n",
    "df"
   ]
  },
  {
   "cell_type": "code",
   "execution_count": null,
   "id": "de41dff1",
   "metadata": {},
   "outputs": [],
   "source": [
    "def post_from_df_ls(LS):\n",
    "    '''функция берет на вход номер ЛС из строки df. Ищется соответсвие номеру счета в df и dbf. \n",
    "    Возвращает почтовый индекс конкретного ЛС'''\n",
    "    k = df.loc[df['LS'] == LS]\n",
    "    return str (k.iloc[0]['POST_IDX'])"
   ]
  },
  {
   "cell_type": "code",
   "execution_count": null,
   "id": "df0d6d3f",
   "metadata": {},
   "outputs": [],
   "source": [
    "def post_from_df_fias(LS):\n",
    "    '''функция берет на вход номер ФИАС из строки df. Ищется соответсвие номеру ФИАС в df и dbf. \n",
    "    Возвращает ФИАС конкретного ЛС'''\n",
    "    l = df.loc[df['LS'] == LS]\n",
    "    return str(l.iloc[0]['FIAS'])"
   ]
  },
  {
   "cell_type": "code",
   "execution_count": null,
   "id": "3d9b024f",
   "metadata": {},
   "outputs": [],
   "source": [
    "dbf_ls = dbf.Table('C:\\\\Users\\\\ПК\\\\Desktop\\\\LS.DBF')\n",
    "dbf_ls.open(dbf.READ_WRITE)\n",
    "\n",
    "    # loop over records\n",
    "for record in dbf_ls:\n",
    "    with record:\n",
    "        record['POST_IDX'] = str(post_from_df_ls (record['LS'].strip())) #удаляем пробелы из записи со счетом из dbf. Присваиваем найденный почтовый индекс из df\n",
    "        record['FIAS'] = str(post_from_df_fias (record['LS'].strip())) #удаляем пробелы из записи со счетом из dbf. Присваиваем найденный ФИАС из df\n",
    "dbf_ls.close()\n"
   ]
  },
  {
   "cell_type": "code",
   "execution_count": null,
   "id": "8b027ffd",
   "metadata": {},
   "outputs": [],
   "source": [
    "#Проверка записи\n",
    "dbf_table = DBF('') # указать путь к файлу\n",
    "dbf_table = DataFrame(iter(dbf_table))\n",
    "dbf_table"
   ]
  },
  {
   "cell_type": "markdown",
   "id": "0810d75e",
   "metadata": {},
   "source": [
    "# 5 задача. Раскрытие домов до уровня квартир для газовой компании. "
   ]
  },
  {
   "cell_type": "code",
   "execution_count": null,
   "id": "f4455e11",
   "metadata": {},
   "outputs": [],
   "source": [
    "df = pd.read_excel ('', dtype = str).fillna('') # поставить путь к файлу, сразу удаляем NaN\n",
    "df"
   ]
  },
  {
   "cell_type": "code",
   "execution_count": null,
   "id": "d7f514ba",
   "metadata": {},
   "outputs": [],
   "source": [
    "# соединяем дом и литеру\n",
    "for i, row in df.iterrows():\n",
    "    if row['Литера'] != '':\n",
    "        df.loc [i,'house_new'] = str(row['№ дома']) + row['Литера']\n",
    "    else: df.loc [i,'house_new'] = str(row['№ дома'])\n",
    "\n",
    "# Составление адресной строки\n",
    "for i, row in df.iterrows():\n",
    "    df['address_for_search'] = 'Челябинская область, Челябинск, ' + df ['Адрес'] + ', ' + df ['house_new']\n",
    "df"
   ]
  },
  {
   "cell_type": "code",
   "execution_count": null,
   "id": "ea4dfe0b",
   "metadata": {},
   "outputs": [],
   "source": [
    "for i, row in df.iloc [0:10000, :].iterrows():\n",
    "    headers = {\n",
    "        'accept': 'application/json',\n",
    "        'master-token': '' # указать мастер-токен\n",
    "            }\n",
    "\n",
    "    params = {\n",
    "            'search_string': row ['address_for_search'],\n",
    "            'address_type': '2', #Вид представления адреса: 1 - административное деление, 2 - муниципальное деление\n",
    "             }\n",
    "    response = requests.get('https://fias-public-service.nalog.ru/api/spas/v2.0/SearchAddressItems', \n",
    "                            params=params, headers=headers)\n",
    "   \n",
    "    if (response.status_code != 204 and response.headers[\"content-type\"].strip().startswith(\"application/json\")):\n",
    "        try:\n",
    "            json = response.json()\n",
    "            \n",
    "             # Записываем первый найденный адрес   \n",
    "            df.loc [i,'FIAS'] = json['addresses'][0]['object_guid'] # код ГАР \n",
    "            df.loc [i,'full_name_address'] = json['addresses'][0]['full_name'] # полная строка адреса (муниципальное деление)\n",
    "    \n",
    "           # Записываем второй найденный адрес\n",
    "            df.loc [i,'FIAS_1'] = json['addresses'][1]['object_guid'] # код ГАР \n",
    "            df.loc [i,'full_name_address_1'] = json['addresses'][1]['full_name'] # полная строка адреса (муниципальное деление)\n",
    "            \n",
    "        except JSONDecodeError:\n",
    "            print ('ошибка JSONDecodeError')\n",
    "        except ConnectionError:\n",
    "            print ('разрыв соединения')\n",
    "    \n",
    "    time.sleep(0.03)  "
   ]
  },
  {
   "cell_type": "code",
   "execution_count": null,
   "id": "caa69196",
   "metadata": {},
   "outputs": [],
   "source": [
    "#Фильтрация значений\n",
    "df_filt_done = df[~df['FIAS'].isna()]\n",
    "df_filt_done.to_excel('find2.xlsx', index=False)\n",
    "\n",
    "df_filt_done = df[df['FIAS'].isna()]\n",
    "df_filt_done.to_excel('not_find2.xlsx', index=False)"
   ]
  },
  {
   "cell_type": "code",
   "execution_count": null,
   "id": "2fade482",
   "metadata": {},
   "outputs": [],
   "source": [
    "#Получаем список ГАР домов\n",
    "gar_house1 = df_filt_done['FIAS'].iloc[:1000].tolist()\n",
    "gar_house2 = df_filt_done['FIAS'].iloc[1000:2000].tolist()\n",
    "gar_house3 = df_filt_done['FIAS'].iloc[2000:3151].tolist()\n"
   ]
  },
  {
   "cell_type": "code",
   "execution_count": null,
   "id": "b934b2b0",
   "metadata": {},
   "outputs": [],
   "source": [
    "print (gar_house1)"
   ]
  },
  {
   "cell_type": "code",
   "execution_count": null,
   "id": "90ae8ccd",
   "metadata": {},
   "outputs": [],
   "source": [
    "print(gar_house2)"
   ]
  },
  {
   "cell_type": "code",
   "execution_count": null,
   "id": "cdba0f09",
   "metadata": {},
   "outputs": [],
   "source": [
    "print (gar_house3)"
   ]
  },
  {
   "cell_type": "code",
   "execution_count": null,
   "id": "0c1c404d",
   "metadata": {},
   "outputs": [],
   "source": [
    "df_query_1 = pd.read_sql (\n",
    "    \"\"\"\n",
    "   with rooms \t\tas (\n",
    "\t\t\t\tselect amh.parentobjid, ar.objectid, ar.objectguid, ar.roomtype, ar.\"number\"\n",
    "\t\t\t\tfrom as_rooms ar \n",
    "\t\t\t\tleft join as_mun_hierarchy amh on amh.objectid = ar.objectid \n",
    "\t\t\t\twhere ar.isactual = 1 and ar.isactive = 1\n",
    "\t\t\t\t\t),\n",
    "\tparam_rooms as (\n",
    "\t\t\t\t-- Параметры комнат\n",
    "\t \t\t\tselect arp.objectid, arp.typeid, arp.value -- arp.value - кадастровый номер \n",
    "\t \t\t\tfrom as_rooms_params arp \n",
    "\t \t\t\twhere arp.typeid = 8 -- 8- кадастровый номер, 13-Уникальный номер реестровой записи\n",
    "\t \t\t\t\t),\t\n",
    "\tflat \t\tas \t(\n",
    "\t\t\t\t\t-- данные по квартире\n",
    "\t\t\t\t\t-- amh.parentobjid - код для связки с домом.\n",
    "\t\t\t\t\t-- aa.objectguid - ГАР до уровня квартиры\n",
    "\t\t\t\t\t-- aa.\"number\" - номер квартиры \n",
    "\t\t\t\t\t-- aa.aparttype   - тип\n",
    "\t\t\t\t\tselect amh.parentobjid, aa.objectid , aa.objectguid , aa.\"number\" , aa.aparttype  \n",
    "\t\t\t\t\tfrom as_apartments aa \n",
    "\t\t\t\t\tleft join as_adm_hierarchy amh on amh.objectid = aa.objectid \n",
    "\t\t\t\t\twhere aa.isactual = 1 and aa.isactive = 1\t\t\t\t\t  \n",
    "\t\t\t\t\t), \n",
    "\tparam_flat as (\n",
    "\t \t\t\t\t-- Данные по кадастровым номерам по квартире\n",
    "\t \t\t\t\tselect aap.objectid, aap.typeid, aap.value -- aap.value - кадастровый номер \n",
    "\t \t\t\t\tfrom as_apartmens_params aap \n",
    "\t \t\t\t\twhere aap.typeid = 8 -- 8- кадастровый номер, 13-Уникальный номер реестровой записи\n",
    "\t \t\t\t\t),\n",
    "\thouse      as (  \n",
    "\t\t\t\t\t-- данные по дому\n",
    "\t\t\t\t\twith param_house as (\n",
    "\t\t\t\t\t\t\t\t\t\t-- Параметры дома\n",
    "\t\t\t\t\t\t\t\t\t\tselect ahp.objectid, ahp.value  \n",
    "\t\t\t\t\t\t\t\t\t\tfrom as_houses_params ahp \n",
    "\t\t\t\t\t\t\t\t\t\twhere ahp.typeid = 5 -- почтовый индекс\n",
    "\t\t\t\t\t\t\t\t\t\t\tand enddate > current_date -- проверка, что индекс действующий\n",
    "\t\t\t\t\t\t\t\t\t\t )\t\n",
    "\t\t\t\t\tselect amh.parentobjid, ah.objectid, ah.objectguid, ah.housenum, param_house.value  -- получение кода ГАР дома\n",
    "\t\t\t\t\tfrom as_houses ah  \n",
    "\t\t\t\t\tleft join as_adm_hierarchy amh on amh.objectid = ah.objectid\n",
    "\t\t\t\t\tleft join param_house on ah.objectid = param_house.objectid\n",
    "\t\t\t\t\twhere ah.isactual = 1 and ah.isactive = 1\n",
    "\t\t\t  \t\t),\n",
    "\tstreet    as (\n",
    "\t\t\t\t\t-- Данные по улице\n",
    "\t\t\t\t\tselect amh.parentobjid as \"parentobjid_street\", aao.objectid as \"id_street\",  aao.objectguid as \"gar_guid_street\", \n",
    "\t\t\t\t\taao.typename as \"type_street\", aao.\"name\" as \"street_name\" --aao.objectguid - это ГАР улицы (ФИАС улицы)\n",
    "\t\t\t\t\tfrom as_addr_obj aao \n",
    "\t\t\t\t\tinner join as_adm_hierarchy amh on amh.objectid = aao.objectid\n",
    "\t\t\t\t\twhere aao.isactual = 1 and \n",
    "\t\t\t\t\t\t  aao.isactive =1 and \n",
    "\t\t\t\t\t\t  aao.enddate > current_date \n",
    "\t\t\t   \t\t),\n",
    "city as \t\t(\n",
    "\t\t\t\t\t-- Населенный пункт\n",
    "\t\t\t\t\t-- aao.objectid - идентификатор\n",
    "\t\t\t\t\t-- aao.objectguid - ГАР ГУИД населенного пункта\n",
    "\t\t\t\t\t-- aao.typename  - тип населенного пункта\n",
    "\t\t\t\t\t-- aao.\"name\" - наименование населенного пункта\n",
    "\t\t\t\t\t-- таблицу as_addr_obj_params не присоединяла. В ней ОКТМО и т.д. населенного пункта\n",
    "\t\t\t\t\tselect aadmh.parentobjid, aadmh.regioncode, aao.objectid, aao.objectguid, aao.typename, aao.\"name\" as \"city\"\n",
    "\t\t\t\t\tfrom as_addr_obj aao \n",
    "\t\t\t\t\tleft join as_adm_hierarchy aadmh on aao.objectid = aadmh.parentobjid\n",
    "\t\t\t\t\t--left join as_addr_obj_division aaod on aaod.parentid = aao.objectid\n",
    "\t\t\t\t\twhere aao.isactual = 1 and aao.isactive = 1 and aao.enddate > current_date \n",
    "\t\t\t\t\t)\n",
    "select city.typename, city.city, street.type_street, street.street_name, house.value as \"post_index\", house.objectguid as \"gar_guid_house\", \n",
    "\t\thouse.housenum as \"house\", flat.objectguid as \"gar_guid_flat\", flat.\"number\" as \"flat\", flat.aparttype, rooms.objectguid as \"gar_guid_room\", \n",
    "\t\trooms.roomtype as \"type_room\", rooms.\"number\" as \"room\"\n",
    "from flat \n",
    "left join rooms on flat.objectid = rooms.parentobjid\n",
    "--inner join param_flat on flat.objectid = param_flat.objectid\n",
    "--inner join param_rooms on rooms.objectid = param_rooms.objectid\n",
    "right join house on house.objectid = flat.parentobjid\n",
    "right join street on street.id_street = house.parentobjid \n",
    "right join city on city.objectid = street.parentobjid_street\n",
    "group by city.typename, city.city, street.type_street, street.street_name, house.value, house.objectguid, house.housenum, flat.objectguid, flat.\"number\", \n",
    "\t\tflat.aparttype, rooms.objectguid, rooms.roomtype, rooms.\"number\"\n",
    "having house.objectguid in ('555397f5-ad94-4193-b310-ffc917cf5c37', '78d879a4-04cf-4dbe-b7bc-5bade0147042', 'f2332ab4-9473-433a-abf5-c5136c3d2d7b', '4bbf8d4e-dd39-4ea7-957b-1453b3e40cf2', 'b5fa80ec-3674-46e1-a450-e5a85d7824bd', 'e9849120-a5fc-4db2-b5b7-01d7974caff8', 'c9d8c3fb-f6f6-417b-ae34-6c67f415ee11', 'b76cec3a-28d2-42ad-a632-cd2faeddaeab', 'f240e6e0-b651-4c14-a161-239940c9ccd7', '6d0e23a3-978e-4a1e-825e-284f1200bb5e', '76aacd0d-5721-4624-a715-79f86a7a7164', '37770756-e3b7-402c-8a3b-6b83dac54582', 'e21a6b49-327e-49b4-af60-7ae48b9dc6de', '5f42f1b6-5eef-4ddb-bf99-6b66c1d0e015')\n",
    "\n",
    "    \"\"\",\n",
    "    \"postgresql://pgadmin:1111@ррр/postgres\" # вместо 1111 поставить пароль, вместо ррр поставить хост\n",
    "    )\n"
   ]
  },
  {
   "cell_type": "code",
   "execution_count": null,
   "id": "045182d4",
   "metadata": {},
   "outputs": [],
   "source": [
    "# соединяем тип улицы и улицу \n",
    "for i, row in df_query_1.iterrows():\n",
    "    df_query_1.loc [i,'street'] = row['type_street'] + ' ' + row['street_name']\n",
    "df_query_1"
   ]
  },
  {
   "cell_type": "code",
   "execution_count": null,
   "id": "5fdbd14c",
   "metadata": {},
   "outputs": [],
   "source": [
    "#Записываем в файл\n",
    "df_query_1.to_csv('1 часть.csv')"
   ]
  },
  {
   "cell_type": "code",
   "execution_count": null,
   "id": "d0de981b",
   "metadata": {},
   "outputs": [],
   "source": [
    "# соединяем все 3 части\n",
    "df_query_1 = pd.read_csv('')\n",
    "df_query_2 = pd.read_csv('')\n",
    "df_query_3 = pd.read_csv('')\n",
    "\n",
    "df_union = pd.concat([df_query_1, df_query_2, df_query_3], axis=0)\n",
    "df_union"
   ]
  },
  {
   "cell_type": "code",
   "execution_count": null,
   "id": "ffde2117",
   "metadata": {},
   "outputs": [],
   "source": [
    "# записыаем объединенный файл в Excel\n",
    "df_union.to_excel('df_union.xlsx', index=False)"
   ]
  },
  {
   "cell_type": "code",
   "execution_count": null,
   "id": "69d8e2f6",
   "metadata": {},
   "outputs": [],
   "source": [
    "#Создание dbf\n",
    "new_table = dbf.Table('gaz_inf3.dbf', 'LS C(10); GIS_ELS C(10); GIS_GKU C(13); GIS_DOC C(18); POST_IDX C(6); CITY C(40); SUBCITY C(30); STREET C(100); HOUSE C(10); HOUSE_LIT C(10); FLAT C(20); LS_SQ N(5, 1); FIO_FULL C(120); FIO C(50); OP_DATE N(5,2); LODGER N(10,5); ZERO C(1); DEBT_MONTH N(10,5); ROOM C(20); DISTRICT C(20); FIAS C(36); EMAIL C(50); STATUS C(1)', codepage='cp866')"
   ]
  },
  {
   "cell_type": "code",
   "execution_count": null,
   "id": "95321f69",
   "metadata": {},
   "outputs": [],
   "source": [
    "#Записываем в dbf\n",
    "new_table.open(dbf.READ_WRITE)\n",
    "\n",
    "for i, row  in df_query_1.iterrows():\n",
    "    datum = ('', '', '', '', str(row ['post_index']), row ['city'], '', row['street'], row ['house'], '',  row['flat'], 0, '', '', 0, 0, '', 0, '', '', row['gar_guid_house'], '', '')\n",
    "    \n",
    "    new_table.append(datum)\n",
    "\n",
    "new_table.close()       \n"
   ]
  },
  {
   "cell_type": "code",
   "execution_count": null,
   "id": "fcafa9e7",
   "metadata": {},
   "outputs": [],
   "source": [
    "dbf_table = DBF('') #поставить путь к файлу\n",
    "dbf_table = DataFrame(iter(dbf_table))\n",
    "dbf_table"
   ]
  }
 ],
 "metadata": {
  "kernelspec": {
   "display_name": "Python 3 (ipykernel)",
   "language": "python",
   "name": "python3"
  },
  "language_info": {
   "codemirror_mode": {
    "name": "ipython",
    "version": 3
   },
   "file_extension": ".py",
   "mimetype": "text/x-python",
   "name": "python",
   "nbconvert_exporter": "python",
   "pygments_lexer": "ipython3",
   "version": "3.10.13"
  }
 },
 "nbformat": 4,
 "nbformat_minor": 5
}
