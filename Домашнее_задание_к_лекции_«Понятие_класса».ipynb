{
  "nbformat": 4,
  "nbformat_minor": 0,
  "metadata": {
    "colab": {
      "provenance": [],
      "mount_file_id": "1_Pp9t_7qh2INDmEtrQMmCfXTTO20tX-v",
      "authorship_tag": "ABX9TyNlsB9ETUJ2YYNq6QXgFrFH",
      "include_colab_link": true
    },
    "kernelspec": {
      "name": "python3",
      "display_name": "Python 3"
    },
    "language_info": {
      "name": "python"
    }
  },
  "cells": [
    {
      "cell_type": "markdown",
      "metadata": {
        "id": "view-in-github",
        "colab_type": "text"
      },
      "source": [
        "<a href=\"https://colab.research.google.com/github/vlasova-us/Python_public/blob/main/%D0%94%D0%BE%D0%BC%D0%B0%D1%88%D0%BD%D0%B5%D0%B5_%D0%B7%D0%B0%D0%B4%D0%B0%D0%BD%D0%B8%D0%B5_%D0%BA_%D0%BB%D0%B5%D0%BA%D1%86%D0%B8%D0%B8_%C2%AB%D0%9F%D0%BE%D0%BD%D1%8F%D1%82%D0%B8%D0%B5_%D0%BA%D0%BB%D0%B0%D1%81%D1%81%D0%B0%C2%BB.ipynb\" target=\"_parent\"><img src=\"https://colab.research.google.com/assets/colab-badge.svg\" alt=\"Open In Colab\"/></a>"
      ]
    },
    {
      "cell_type": "markdown",
      "source": [
        "Задание 1\n",
        "Напишите функцию, которая возвращает название валюты (поле ‘Name’) с максимальным значением курса с помощью сервиса www.cbr-xml-daily.ru...ly_json.js"
      ],
      "metadata": {
        "id": "C0xCsCW82QD-"
      }
    },
    {
      "cell_type": "code",
      "execution_count": null,
      "metadata": {
        "id": "7CYs5xw22Hf-",
        "colab": {
          "base_uri": "https://localhost:8080/"
        },
        "outputId": "6b36f93f-7814-4e03-880f-5b44a38c113a"
      },
      "outputs": [
        {
          "output_type": "stream",
          "name": "stdout",
          "text": [
            "Максимальный курс валюты к рублю:  Китайских юаней - 85.3691\n"
          ]
        }
      ],
      "source": [
        "import sys\n",
        "sys.path.append ('/content/drive/MyDrive/')\n",
        "\n",
        "from exchange import Rate\n",
        "\n",
        "class CurrencyNameMaxRate (Rate):\n",
        "  def __init__(self):\n",
        "    super().__init__(format= 'full')\n",
        "   \n",
        "  def max_rate(self):\n",
        "   '''\n",
        "   Возвращает максимальный курс к рублю среди валют и наименование указанной валюты.\n",
        "   '''\n",
        "   dict_valute = cur_name.exchange_rates() # получение словаря с сайта\n",
        "   dict_valute_rate = {}                   # словарь только из названия валюты и значения \n",
        "  \n",
        "   for keys, value in dict_valute.items():\n",
        "     key = value ['Name']\n",
        "     dict_valute_rate [key] = value ['Value']\n",
        "  \n",
        "   max_value = max (dict_valute_rate, key = dict_valute_rate.get) \n",
        "  \n",
        "   return print (\"Максимальный курс валюты к рублю: \", max_value, \"-\" , dict_valute_rate [max_value]  )\n",
        "\n",
        "cur_name = CurrencyNameMaxRate ()\n",
        "cur_name.max_rate()"
      ]
    },
    {
      "cell_type": "markdown",
      "source": [
        "Задание 2\n",
        "Добавьте в класс Rate параметр diff (со значениями True или False), который в случае значения True в методах курсов валют (eur, usd итд) будет возвращать не курс валюты, а изменение по сравнению в прошлым значением. Считайте, self.diff будет принимать значение True только при возврате значения курса. При отображении всей информации о валюте он не используется."
      ],
      "metadata": {
        "id": "hXgdj4Rb-ZRA"
      }
    },
    {
      "cell_type": "code",
      "source": [
        "import requests\n",
        "\n",
        "class Rate:\n",
        "    def __init__(self, format='value', diff = False):\n",
        "        self.format = format\n",
        "        self.diff = diff\n",
        "\n",
        "    def exchange_rates(self):\n",
        "        \"\"\"\n",
        "        Возвращает ответ сервиса с информацией о валютах в виде:\n",
        "        \n",
        "        {\n",
        "            'AMD': {\n",
        "                'CharCode': 'AMD',\n",
        "                'ID': 'R01060',\n",
        "                'Name': 'Армянских драмов',\n",
        "                'Nominal': 100,\n",
        "                'NumCode': '051',\n",
        "                'Previous': 14.103,\n",
        "                'Value': 14.0879\n",
        "                },\n",
        "            ...\n",
        "        }\n",
        "        \"\"\"\n",
        "        r = requests.get('https://www.cbr-xml-daily.ru/daily_json.js')\n",
        "        return r.json()['Valute']\n",
        "    \n",
        "    def make_format(self, currency):\n",
        "        \"\"\"\n",
        "        Возвращает информацию о валюте currency в двух вариантах:\n",
        "        - полная информация о валюте при self.format = 'full':\n",
        "        Rate('full').make_format('EUR')\n",
        "        {\n",
        "            'CharCode': 'EUR',\n",
        "            'ID': 'R01239',\n",
        "            'Name': 'Евро',\n",
        "            'Nominal': 1,\n",
        "            'NumCode': '978',\n",
        "            'Previous': 79.6765,\n",
        "            'Value': 79.4966\n",
        "        }\n",
        "        \n",
        "        Rate('value').make_format('EUR')\n",
        "        79.4966\n",
        "        \"\"\"\n",
        "        response = self.exchange_rates()\n",
        "        \n",
        "        if currency in response:\n",
        "            if self.format == 'full':\n",
        "                return response[currency]\n",
        "            \n",
        "            if self.format == 'value':\n",
        "                return response[currency]['Value']\n",
        "        \n",
        "        return 'Error'\n",
        "    \n",
        "    def eur(self):\n",
        "        \"\"\"\n",
        "        При diff = 'False' Возвращает курс евро на сегодня в формате self.format\n",
        "        При diff = 'True' Возвращает разницу между курсом евро на сегодня в формате self.format и предыдущим значением\n",
        "        \"\"\"\n",
        "        response = self.exchange_rates()\n",
        "        currency = 'EUR'\n",
        "\n",
        "        if self.diff == False: \n",
        "         return self.make_format('EUR') \n",
        "            \n",
        "        if self.diff == True:\n",
        "         return response[currency]['Value'] - response[currency]['Previous']\n",
        "       \n",
        "  \n",
        "    def usd(self):\n",
        "        \"\"\"\n",
        "        При diff = 'False' Возвращает курс доллара на сегодня в формате self.format\n",
        "        При diff = 'True' Возвращает разницу между курсом доллара на сегодня в формате self.format и предыдущим значением\n",
        "        \"\"\"\n",
        "        response = self.exchange_rates()\n",
        "        currency = 'USD'\n",
        "\n",
        "        if self.diff == False: \n",
        "         return self.make_format('USD') \n",
        "            \n",
        "        if self.diff == True:\n",
        "         return response[currency]['Value'] - response[currency]['Previous']\n",
        "                \n",
        "       \n",
        "    def AZN(self):\n",
        "        \"\"\"\n",
        "        При diff = 'False' Возвращает курс азербайджанского маната на сегодня в формате self.format\n",
        "        При diff = 'True' Возвращает разницу между курсом азербайджанского маната на сегодня в формате self.format и предыдущим значением\n",
        "        \"\"\"\n",
        "        response = self.exchange_rates()\n",
        "        currency = 'AZN'\n",
        "\n",
        "        if self.diff == False: \n",
        "         return self.make_format('AZN') \n",
        "            \n",
        "        if self.diff == True:\n",
        "         return response[currency]['Value'] - response[currency]['Previous']\n",
        "\n",
        "# r = Rate(format = \"value\", diff = False)\n",
        "# r = Rate(format = \"full\", diff = False)\n",
        "r = Rate(format = \"value\", diff = True)\n",
        "\n",
        "\n",
        "# r.eur()\n",
        "# r.usd()\n",
        "r.AZN()"
      ],
      "metadata": {
        "colab": {
          "base_uri": "https://localhost:8080/"
        },
        "id": "Wlo2TSfhaIr0",
        "outputId": "cebbc159-c69f-43f9-96e7-4a2f32695bb1"
      },
      "execution_count": null,
      "outputs": [
        {
          "output_type": "execute_result",
          "data": {
            "text/plain": [
              "-0.6032000000000011"
            ]
          },
          "metadata": {},
          "execution_count": 36
        }
      ]
    },
    {
      "cell_type": "markdown",
      "source": [
        "Задание 3\n",
        "Напишите класс Designer, который учитывает количество международных премий. Подсказки в коде занятия в разделе “Домашнее задание задача 3”.\n",
        "\n",
        "Комментарий по классу Designer такой:\n",
        "Напишите класс Designer, который учитывает количество международных премий для дизайнеров (из презентации: “Повышение на 1 грейд за каждые 7 баллов. Получение международной премии – это +2 балла”). Считайте, что при выходе на работу сотрудник уже имеет две премии и их количество не меняется со стажем (конечно если хотите это можно вручную менять).\n",
        "\n",
        "Класс Designer пишется по аналогии с классом Developer из материалов занятия."
      ],
      "metadata": {
        "id": "UEHyYliei6Qq"
      }
    },
    {
      "cell_type": "code",
      "source": [
        "class Employee:\n",
        "    def __init__(self, name, salary, seniority):\n",
        "        self.name = name\n",
        "        self.salary = salary\n",
        "        self.seniority = seniority\n",
        "        self.grade = 0\n",
        "    \n",
        "    def grade_up(self):\n",
        "     \"\"\" Повышение уровня сотрудника \"\"\"\n",
        "     self.grade += 1\n",
        "\n",
        "    def salary (self):\n",
        "     \"\"\" Повышение зарплаты сотрудника \"\"\"\n",
        "     self.salary += 100\n",
        "    \n",
        "    def publish_grade(self):\n",
        "      \"\"\" Публикация результатов аккредитации сотрудников \"\"\"\n",
        "      print ('Сотрудник {}, зарплата {}, грейд {}'.format(self.name, self.salary, self.grade) )\n",
        "\n",
        "class Designer (Employee):\n",
        "    def __init__(self, name, salary, seniority):\n",
        "     super().__init__(name, salary, seniority)\n",
        "     self.award = 0\n",
        "     \n",
        "    def check_if_it_is_time_for_upgrade(self):  \n",
        "     \"\"\" Работает в 2 режимах:\n",
        "     1) для каждой аккредитации увеличиваем счетчик на 1. \n",
        "     2) если у сотрудника была награда, то за каждую награду даем 2 балла\n",
        "     Для повышения грейда нужно 7 баллов\n",
        "      \"\"\"\n",
        "      \n",
        "     if self.award == 0:\n",
        "       self.seniority += 1\n",
        "       \n",
        "     if self.award > 0:\n",
        "      self.seniority += 2 * self.award        # за каждую награду 2 балла\n",
        "    \n",
        "     self.grade = self.seniority // 7 # условие повышения сотрудника из презентации\n",
        "     \n",
        "   \n",
        "     return self.publish_grade()    # публикация результатов"
      ],
      "metadata": {
        "id": "BCeTgzSDjO8q"
      },
      "execution_count": null,
      "outputs": []
    },
    {
      "cell_type": "code",
      "source": [
        "elena = Designer (name = 'Елена', salary = 50, seniority = 0)\n",
        "elena.award = 2\n",
        "for i in range(21):\n",
        "   elena.check_if_it_is_time_for_upgrade()\n"
      ],
      "metadata": {
        "colab": {
          "base_uri": "https://localhost:8080/"
        },
        "id": "VTEPht-dlJk0",
        "outputId": "f53e2765-1a7a-4ad7-fcec-7709ac917c25"
      },
      "execution_count": null,
      "outputs": [
        {
          "output_type": "stream",
          "name": "stdout",
          "text": [
            "Сотрудник Елена, зарплата 50, грейд 0\n",
            "Сотрудник Елена, зарплата 50, грейд 1\n",
            "Сотрудник Елена, зарплата 50, грейд 1\n",
            "Сотрудник Елена, зарплата 50, грейд 2\n",
            "Сотрудник Елена, зарплата 50, грейд 2\n",
            "Сотрудник Елена, зарплата 50, грейд 3\n",
            "Сотрудник Елена, зарплата 50, грейд 4\n",
            "Сотрудник Елена, зарплата 50, грейд 4\n",
            "Сотрудник Елена, зарплата 50, грейд 5\n",
            "Сотрудник Елена, зарплата 50, грейд 5\n",
            "Сотрудник Елена, зарплата 50, грейд 6\n",
            "Сотрудник Елена, зарплата 50, грейд 6\n",
            "Сотрудник Елена, зарплата 50, грейд 7\n",
            "Сотрудник Елена, зарплата 50, грейд 8\n",
            "Сотрудник Елена, зарплата 50, грейд 8\n",
            "Сотрудник Елена, зарплата 50, грейд 9\n",
            "Сотрудник Елена, зарплата 50, грейд 9\n",
            "Сотрудник Елена, зарплата 50, грейд 10\n",
            "Сотрудник Елена, зарплата 50, грейд 10\n",
            "Сотрудник Елена, зарплата 50, грейд 11\n",
            "Сотрудник Елена, зарплата 50, грейд 12\n"
          ]
        }
      ]
    }
  ]
}