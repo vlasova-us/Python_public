{
 "cells": [
  {
   "cell_type": "code",
   "execution_count": null,
   "id": "56615c1e",
   "metadata": {},
   "outputs": [],
   "source": [
    "!pip install requests\n",
    "!pip install pandas \n",
    "import requests\n",
    "\n",
    "import time\n",
    "import pandas as pd\n",
    "import requests\n",
    "from bs4 import BeautifulSoup\n",
    "import re\n",
    "import numpy as np\n",
    "import json\n",
    "\n",
    "pd.set_option(\"display.max_rows\", 50)\n",
    "pd.set_option(\"display.max_columns\", 50)"
   ]
  },
  {
   "cell_type": "code",
   "execution_count": null,
   "id": "80680c40",
   "metadata": {},
   "outputs": [],
   "source": [
    " !pip install openpyxl"
   ]
  },
  {
   "cell_type": "markdown",
   "id": "d031b268",
   "metadata": {},
   "source": [
    "# Загрузка данных из таблицы НКР"
   ]
  },
  {
   "cell_type": "code",
   "execution_count": null,
   "id": "9f00e68d",
   "metadata": {},
   "outputs": [],
   "source": [
    "# Загрузка из таблицы НКР\n",
    "df = pd.read_excel ('') # вставить адрес расположения файла\n",
    "df"
   ]
  },
  {
   "cell_type": "markdown",
   "id": "55f820d6",
   "metadata": {},
   "source": [
    "# Разделяем исходный файл на 2 части"
   ]
  },
  {
   "cell_type": "code",
   "execution_count": null,
   "id": "28ea8d1c",
   "metadata": {},
   "outputs": [],
   "source": [
    "# фильтруем адреса без квартир, т.к. данных по ним можно найти используя ФИАС дома \n",
    "df_no_flat = df[df['Квартира ГОРОД'].isnull()]\n",
    "df_no_flat.to_excel('Без квартир обработатать.xlsx', index=False)\n",
    "\n",
    "# фильтруем адреса с квартирами \n",
    "df_flat = df[df['Квартира ГОРОД'].notnull()]\n",
    "df_flat.to_excel('с квартирами обработатать.xlsx', index=False)\n"
   ]
  },
  {
   "cell_type": "markdown",
   "id": "3b962ff0",
   "metadata": {},
   "source": [
    "# Поиск данных для домов без квартир"
   ]
  },
  {
   "cell_type": "code",
   "execution_count": null,
   "id": "24ca3e44",
   "metadata": {},
   "outputs": [],
   "source": [
    "# Загрузка домов без квартир, по которым нужно найти ГАР\n",
    "df_no_flat\n",
    "#df_no_flat = pd.read_excel ('') #если работаем с с разделенным файлом\n",
    "\n"
   ]
  },
  {
   "cell_type": "code",
   "execution_count": null,
   "id": "f520f075",
   "metadata": {},
   "outputs": [],
   "source": [
    "# Для файла с домами без квартир запускаем поиск по ФИАС. \n",
    "\n",
    "for i, row in df_no_flat.iloc [0:10000, :].iterrows():\n",
    "    d = row ['ФИАС дома ГОРОД']\n",
    "    \n",
    "    headers = {\n",
    "        'accept': 'application/json',\n",
    "        'master-token': '', # записать токен\n",
    "              }\n",
    "\n",
    "    params = {\n",
    "        'object_guid': d,\n",
    "        'address_type': '2',\n",
    "              }\n",
    "\n",
    "    response = requests.get(\n",
    "        'https://fias-public-service.nalog.ru/api/spas/v2.0/GetAddressItemByGuid',\n",
    "        params=params,\n",
    "        headers=headers,\n",
    "             )\n",
    "    \n",
    "    json = response.json()\n",
    "    \n",
    "    #данные по адресу\n",
    "    full_name_address = json['addresses'][0]['full_name'] # полная строка адреса (муниципальное деление)\n",
    "    cadastral_number_inf = json['addresses'][0]['address_details']['cadastral_number'] #кадастровый номер\n",
    "    object_guid_inf = json['addresses'][0]['object_guid'] # код ГАР\n",
    "        \n",
    "    # Записываем найденный адрес   \n",
    "    df_no_flat.loc [i,'FIAS'] = object_guid_inf \n",
    "    df_no_flat.loc [i,'caddastral_number'] = cadastral_number_inf\n",
    "    df_no_flat.loc [i,'full_name_address'] = full_name_address\n",
    "    \n",
    "    time.sleep(0.005)\n",
    "df_no_flat"
   ]
  },
  {
   "cell_type": "code",
   "execution_count": null,
   "id": "abd55d72",
   "metadata": {},
   "outputs": [],
   "source": [
    "# фильтрация для записи в файл\n",
    "\n",
    "df_no_flat = df_no_flat[df['FIAS'] == 'nan']\n",
    "df_no_flat.to_excel('НЕ обработан файл 2025_02_24 часть7.xlsx', index=False)\n",
    "\n",
    "df_no_flat2 = df_no_flat[df_no_flat['FIAS'] != 'nan']\n",
    "df_no_flat2.to_excel('обработан файл 2024_02_25 часть 7.xlsx', index=False)"
   ]
  },
  {
   "cell_type": "markdown",
   "id": "ae131dee",
   "metadata": {},
   "source": [
    "# Поиск данных для домов с квартирами"
   ]
  },
  {
   "cell_type": "code",
   "execution_count": null,
   "id": "13653923",
   "metadata": {},
   "outputs": [],
   "source": [
    "# Загрузка домов с квартирами, по которым нужно найти ГАР\n",
    "df_flat\n",
    "#df_flat = pd.read_excel ()\n",
    "\n"
   ]
  },
  {
   "cell_type": "code",
   "execution_count": null,
   "id": "32eae394",
   "metadata": {},
   "outputs": [],
   "source": [
    "# Ищем по ФИАС дома полную адресную строку\n",
    "for i, row in df_flat.iloc [0:10000, :].iterrows():\n",
    "    d = row ['ФИАС дома ГОРОД']\n",
    "    headers = {\n",
    "        'accept': 'application/json',\n",
    "        'master-token': '', # указать токен\n",
    "                }\n",
    "\n",
    "    params = {\n",
    "        'object_guid': d,\n",
    "        'address_type': '1',\n",
    "              }\n",
    "    response = requests.get(\n",
    "        'https://fias-public-service.nalog.ru/api/spas/v2.0/GetAddressItemByGuid',\n",
    "        params=params,\n",
    "        headers=headers,\n",
    "             )\n",
    "    \n",
    "    json = response.json()\n",
    "    \n",
    "    #Получаем полную адресную строку\n",
    "    full_name_address_house = json['addresses'][0]['full_name']  # полная строка адреса (муниципальное деление)\n",
    "        \n",
    "    #записываем полную адресную строку дома в df\n",
    "        \n",
    "    df_flat.loc [i,'full_name_address_house'] = full_name_address_house"
   ]
  },
  {
   "cell_type": "code",
   "execution_count": null,
   "id": "fe1f8e1e",
   "metadata": {},
   "outputs": [],
   "source": [
    "# объединяем колонки для получения полного адреса с квартирой\n",
    "df_flat['full_name_address_house'] = df_flat['full_name_address_house'] +', квартира ' + df_flat['Квартира ГОРОД']"
   ]
  },
  {
   "cell_type": "code",
   "execution_count": null,
   "id": "e9b4cc41",
   "metadata": {},
   "outputs": [],
   "source": [
    "# Получаем из налоговой информацию по адресам. Может быть два адреса похожих по написанию. Из ответа налоговой получаем запись о двух адресах.\n",
    "for i, row in df_flat.iloc [0:10000, :].iterrows():\n",
    "    d = row ['full_name_address_house']\n",
    "    headers = {\n",
    "                'accept': 'application/json',\n",
    "                 'master-token': '', # указать токен\n",
    "                }\n",
    "    params = {\n",
    "            'search_string': d,\n",
    "            'address_type': '2', #Вид представления адреса: 1 - административное деление, 2 - муниципальное деление\n",
    "             }\n",
    "    response = requests.get('https://fias-public-service.nalog.ru/api/spas/v2.0/SearchAddressItems', \n",
    "                            params=params, headers=headers)\n",
    "    json = response.json()\n",
    "    \n",
    "    #первый найденный адрес по строке (чаще всего земельный участок)\n",
    "    object_guid_inf = json['addresses'][0]['object_guid'] # код ГАР\n",
    "    full_name_address = json['addresses'][0]['full_name'] # полная строка адреса (муниципальное деление)\n",
    "    cadastral_number_inf = json['addresses'][0]['address_details']['cadastral_number'] #кадастровый номер\n",
    "    \n",
    "    #второй найденный адрес по строке \n",
    "    object_guid_inf_1 = json['addresses'][1]['object_guid'] # код ГАР\n",
    "    full_name_address_1 = json['addresses'][1]['full_name'] # полная строка адреса (муниципальное деление)\n",
    "    cadastral_number_inf_1 = json['addresses'][1]['address_details']['cadastral_number'] #кадастровый номер\n",
    "    \n",
    "    # Записываем первый найденный адрес   \n",
    "    df_flat.loc [i,'FIAS'] = object_guid_inf \n",
    "    df_flat.loc [i,'caddastral_number'] = cadastral_number_inf\n",
    "    df_flat.loc [i,'full_name_address'] = full_name_address\n",
    "    \n",
    "    # Записываем второй найденный адрес\n",
    "    df_flat.loc [i,'FIAS_1'] = object_guid_inf_1 \n",
    "    df_flat.loc [i,'caddastral_number_1'] = cadastral_number_inf_1\n",
    "    df_flat.loc [i,'full_name_address_1'] = full_name_address_1\n",
    " \n",
    "    time.sleep(0.02)\n",
    "df_flat\n"
   ]
  },
  {
   "cell_type": "code",
   "execution_count": null,
   "id": "c7b9fbbc",
   "metadata": {},
   "outputs": [],
   "source": [
    "# фильтрация для записи в файл\n",
    "\n",
    "df_flat = df_flat[df_flat['FIAS'] == 'nan']\n",
    "df_flat.to_excel('НЕ обработан файл.xlsx', index=False)\n",
    "\n",
    "df_flat2 = df_flat[df_flat['FIAS'] != 'nan']\n",
    "df_flat2.to_excel('обработан файл.xlsx', index=False)"
   ]
  },
  {
   "cell_type": "code",
   "execution_count": null,
   "id": "37abf1de",
   "metadata": {},
   "outputs": [],
   "source": []
  }
 ],
 "metadata": {
  "kernelspec": {
   "display_name": "Python 3 (ipykernel)",
   "language": "python",
   "name": "python3"
  },
  "language_info": {
   "codemirror_mode": {
    "name": "ipython",
    "version": 3
   },
   "file_extension": ".py",
   "mimetype": "text/x-python",
   "name": "python",
   "nbconvert_exporter": "python",
   "pygments_lexer": "ipython3",
   "version": "3.11.5"
  }
 },
 "nbformat": 4,
 "nbformat_minor": 5
}
