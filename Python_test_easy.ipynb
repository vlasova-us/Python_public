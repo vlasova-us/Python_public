{
  "nbformat": 4,
  "nbformat_minor": 0,
  "metadata": {
    "colab": {
      "provenance": [],
      "authorship_tag": "ABX9TyOoQWqH8sLYSZEy5HLzc+ge",
      "include_colab_link": true
    },
    "kernelspec": {
      "name": "python3",
      "display_name": "Python 3"
    },
    "language_info": {
      "name": "python"
    }
  },
  "cells": [
    {
      "cell_type": "markdown",
      "metadata": {
        "id": "view-in-github",
        "colab_type": "text"
      },
      "source": [
        "<a href=\"https://colab.research.google.com/github/vlasova-us/Python_public/blob/main/Python_test_easy.ipynb\" target=\"_parent\"><img src=\"https://colab.research.google.com/assets/colab-badge.svg\" alt=\"Open In Colab\"/></a>"
      ]
    },
    {
      "cell_type": "markdown",
      "source": [
        "**Поиск самого частого символа**\n",
        "\n",
        "Дана строка str. Необходимо написать функцию, которая принимает на вход строку и выводит кортеж из двух элементов:\n",
        "\n",
        "Самый часто встречающийся символ\n",
        "\n",
        "Количество его повторов\n",
        "\n",
        "Примечание 1: Если несколько символов встречаются одинаковое количество раз, то вывести любой из кортежей.\n",
        "\n",
        "Примечание 2: Пробел и знаки препинания тоже считаются символами.\n",
        "\n"
      ],
      "metadata": {
        "id": "CTQpfS2bGEv8"
      }
    },
    {
      "cell_type": "code",
      "source": [
        "def max_char(str1):\n",
        "    chars = dict.fromkeys(str1, 0)\n",
        "    for c in str1:\n",
        "      chars[c] +=1\n",
        "    \n",
        "    return max(chars, key = chars.get), max(chars.values())\n",
        "    \n",
        "# max_char ('Hello, my name is Yulia')\n",
        "max_char ('hello, world!')"
      ],
      "metadata": {
        "colab": {
          "base_uri": "https://localhost:8080/"
        },
        "id": "NpdN7QYGvKzw",
        "outputId": "9b823e73-ab05-473d-ac78-83ad2549aae8"
      },
      "execution_count": null,
      "outputs": [
        {
          "output_type": "execute_result",
          "data": {
            "text/plain": [
              "('l', 3)"
            ]
          },
          "metadata": {},
          "execution_count": 94
        }
      ]
    },
    {
      "cell_type": "markdown",
      "source": [
        "**Определение анаграммов**\n",
        "\n",
        "Даны два слова: word1 и word2. Написать функцию anagram для определения, являются ли эти слова анаграммами.\n",
        "\n",
        "Примечание: Анаграммами называются слова, которые состоят из одного и того же набора букв (и имеют одинаковую длину)."
      ],
      "metadata": {
        "id": "fMsl1YX1_sK2"
      }
    },
    {
      "cell_type": "code",
      "source": [
        "def anagram(word1, word2):\n",
        "  if len(word1) == len(word2):\n",
        "    return True\n",
        "  elif list(word1) == list(word2):\n",
        "    return True\n",
        "  return False\n",
        "\n",
        "\n",
        "# anagram('hello', 'helo')\n",
        "anagram('зов', 'воз')\n"
      ],
      "metadata": {
        "colab": {
          "base_uri": "https://localhost:8080/"
        },
        "id": "JymRncxoFHoP",
        "outputId": "26c53385-e10a-4c27-bfef-6b047952f798"
      },
      "execution_count": null,
      "outputs": [
        {
          "output_type": "execute_result",
          "data": {
            "text/plain": [
              "True"
            ]
          },
          "metadata": {},
          "execution_count": 58
        }
      ]
    },
    {
      "cell_type": "markdown",
      "source": [
        "**Поиск общих элементов двух множеств**\n",
        "\n",
        "Дано два множества: st1 и st2. Написать функцию set_comp, которая будет возвращать True, если st1 и st2 не имеют общих элементов и False иначе."
      ],
      "metadata": {
        "id": "5LrQAO5IRqZC"
      }
    },
    {
      "cell_type": "code",
      "source": [
        "def set_comp(st1, st2):\n",
        "  if st1 & st2:\n",
        "    return False\n",
        "  return True\n",
        "\n",
        "\n",
        "# set_comp( {1, 2, 3}, {2, 3, 4})\n",
        "set_comp( {1, 2, 3}, {20, 30, 40})"
      ],
      "metadata": {
        "colab": {
          "base_uri": "https://localhost:8080/"
        },
        "id": "rUJrT03LI2ci",
        "outputId": "a6bb67a2-2407-4ce6-d9a2-f0c8cb35d309"
      },
      "execution_count": null,
      "outputs": [
        {
          "output_type": "execute_result",
          "data": {
            "text/plain": [
              "True"
            ]
          },
          "metadata": {},
          "execution_count": 60
        }
      ]
    },
    {
      "cell_type": "markdown",
      "source": [
        "**Словарь с частотой уникальных символов**\n",
        "\n",
        "На вход подается строка str. Необходимо написать функцию magic_dict, которая будет составлять словарь, в котором ключами будут уникальные символы из str, а значениями - количество вхождений этих символов в строку str. При этом расположены элементы словаря должны быть в порядке лексикографического возрастания ключей.\n"
      ],
      "metadata": {
        "id": "j8NS03kR-U4l"
      }
    },
    {
      "cell_type": "code",
      "source": [
        "def magic_dict(str):\n",
        "  magic_dict_ = dict.fromkeys(str, 0)\n",
        "  for letter in str:\n",
        "    magic_dict_[letter] +=1\n",
        "  return dict(magic_dict_.items())\n",
        "\n",
        "magic_dict ('abcacdabcacdaaeee')"
      ],
      "metadata": {
        "colab": {
          "base_uri": "https://localhost:8080/"
        },
        "id": "3mDzBrpLfm8Y",
        "outputId": "98abf2e4-7fe1-4ea3-dfee-f71daddeb576"
      },
      "execution_count": null,
      "outputs": [
        {
          "output_type": "execute_result",
          "data": {
            "text/plain": [
              "{'a': 6, 'b': 2, 'c': 4, 'd': 2, 'e': 3}"
            ]
          },
          "metadata": {},
          "execution_count": 31
        }
      ]
    },
    {
      "cell_type": "markdown",
      "source": [
        "**Комбинированный список из разных структур**\n",
        "\n",
        "Дан список целых чисел A, кортеж B и множество C. Реализовать функцию combine, которая максимально элегантным способом будет формировать список, состоящий из элементов всех трех структур данных.\n",
        "\n",
        "\n",
        "A = [1, 2, 3], B = (4, 5, 6), C = {4, 5, 6}"
      ],
      "metadata": {
        "id": "69oabUMk_dlX"
      }
    },
    {
      "cell_type": "code",
      "source": [
        "def combine(A, B, C):\n",
        "  return A+list(B)+list(C)\n",
        "\n",
        "combine ([1, 2, 3], (4, 5, 6), {4, 5, 6})"
      ],
      "metadata": {
        "colab": {
          "base_uri": "https://localhost:8080/"
        },
        "id": "eLfqDThH_x8N",
        "outputId": "442d59b8-b945-4405-bfdd-428256530cc4"
      },
      "execution_count": null,
      "outputs": [
        {
          "output_type": "execute_result",
          "data": {
            "text/plain": [
              "[1, 2, 3, 4, 5, 6, 4, 5, 6]"
            ]
          },
          "metadata": {},
          "execution_count": 5
        }
      ]
    },
    {
      "cell_type": "markdown",
      "source": [
        "**Сделать плоскими все кортежи**\n",
        "\n",
        "На вход подается массив arr состоящий из произвольного количества кортежей, в каждом из которых также содержится произвольное количество элементов. Необходимо написать фукнцию flat, которая будет возвращать список из всех элементов, входящих в состав каждого кортежа."
      ],
      "metadata": {
        "id": "SgJSrd_lCBkP"
      }
    },
    {
      "cell_type": "code",
      "source": [
        "def flat(arr):\n",
        " tuple_arr = []\n",
        " i=0\n",
        " while i < len(arr):\n",
        "   tuple_arr+=arr[i]\n",
        "   i+=1\n",
        "   \n",
        " return tuple_arr\n",
        "  \n",
        "flat ([(1, 2, 'a'), ('bb', ), ('cc', 'dd', 1)])"
      ],
      "metadata": {
        "colab": {
          "base_uri": "https://localhost:8080/"
        },
        "id": "MIZyixOrCir-",
        "outputId": "8f29d6c0-1e3b-42d9-b582-0a8da0d049bd"
      },
      "execution_count": null,
      "outputs": [
        {
          "output_type": "execute_result",
          "data": {
            "text/plain": [
              "[1, 2, 'a', 'bb', 'cc', 'dd', 1]"
            ]
          },
          "metadata": {},
          "execution_count": 25
        }
      ]
    },
    {
      "cell_type": "markdown",
      "source": [
        "**Найти медиану**\n",
        "\n",
        "Вам дан набор чисел в виде списка Python. Необходимо найти медиану этого числового ряда.\n",
        "\n",
        "Напишите функцию FindMedian, которая будет возвращать одно число - медианное значение.\n",
        "\n",
        "Функция FindMedian принимает на вход arr - исходный список с числами."
      ],
      "metadata": {
        "id": "4dCy5ocHTAyO"
      }
    },
    {
      "cell_type": "code",
      "source": [
        "# arr = [1, 5, 2, 3, 6]\n",
        "# arr = [100, 5, 2, 4, 3, 6]\n",
        "# arr =[200, 100, 90, 80, 60]\n",
        "arr=[]\n",
        "\n",
        "def FindMedian(arr):\n",
        "  if len(arr)%2==1:\n",
        "    return sorted(arr)[len(arr)//2]\n",
        "  if len(arr)==0:\n",
        "    return None\n",
        "  else:\n",
        "    return 0.5*(sorted(arr)[len(arr)//2] + sorted(arr)[len(arr)//2-1])\n",
        "\n",
        "FindMedian(arr)"
      ],
      "metadata": {
        "id": "Wiejuyd1hP2E"
      },
      "execution_count": 52,
      "outputs": []
    }
  ]
}