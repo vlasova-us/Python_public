{
  "nbformat": 4,
  "nbformat_minor": 0,
  "metadata": {
    "colab": {
      "provenance": [],
      "authorship_tag": "ABX9TyO05TcCNcKQHinLrfyt4URf",
      "include_colab_link": true
    },
    "kernelspec": {
      "name": "python3",
      "display_name": "Python 3"
    },
    "language_info": {
      "name": "python"
    }
  },
  "cells": [
    {
      "cell_type": "markdown",
      "metadata": {
        "id": "view-in-github",
        "colab_type": "text"
      },
      "source": [
        "<a href=\"https://colab.research.google.com/github/vlasova-us/Python_public/blob/main/%D0%94%D0%BE%D0%BC%D0%B0%D1%88%D0%BD%D0%B5%D0%B5_%D0%B7%D0%B0%D0%B4%D0%B0%D0%BD%D0%B8%D0%B5_%D0%BA_%D0%BB%D0%B5%D0%BA%D1%86%D0%B8%D0%B8_%C2%AB%D0%98%D1%81%D0%BA%D0%BB%D1%8E%D1%87%D0%B5%D0%BD%D0%B8%D1%8F_%D0%B8_%D0%BE%D0%B1%D1%80%D0%B0%D0%B1%D0%BE%D1%82%D0%BA%D0%B0_%D0%BE%D1%88%D0%B8%D0%B1%D0%BE%D0%BA%C2%BB.ipynb\" target=\"_parent\"><img src=\"https://colab.research.google.com/assets/colab-badge.svg\" alt=\"Open In Colab\"/></a>"
      ]
    },
    {
      "cell_type": "markdown",
      "source": [
        "**Задание 1**\n",
        "Печатные газеты использовали свой формат дат для каждого выпуска. Для каждой газеты из списка напишите формат указанной даты для перевода в объект datetime:\n",
        "\n",
        "The Moscow Times - Wednesday, October 2, 2002\n",
        "\n",
        "The Guardian - Friday, 11.10.13\n",
        "\n",
        "Daily News - Thursday, 18 August 1977"
      ],
      "metadata": {
        "id": "xC1XKqaQT775"
      }
    },
    {
      "cell_type": "code",
      "source": [
        "from datetime import datetime\n",
        "data_string = 'Wednesday, October 2, 2002'\n",
        "data_datetime = datetime.strptime(data_string, '%A, %B %d, %Y')\n",
        "data_datetime"
      ],
      "metadata": {
        "colab": {
          "base_uri": "https://localhost:8080/"
        },
        "id": "1uRih_wKUKVs",
        "outputId": "45949961-cc1e-4625-f15d-aca309da3e11"
      },
      "execution_count": null,
      "outputs": [
        {
          "output_type": "execute_result",
          "data": {
            "text/plain": [
              "datetime.datetime(2002, 10, 2, 0, 0)"
            ]
          },
          "metadata": {},
          "execution_count": 4
        }
      ]
    },
    {
      "cell_type": "code",
      "source": [
        "from datetime import datetime\n",
        "data_string = 'Friday, 11.10.13'\n",
        "data_datetime = datetime.strptime(data_string, '%A, %d.%m.%y')\n",
        "data_datetime"
      ],
      "metadata": {
        "colab": {
          "base_uri": "https://localhost:8080/"
        },
        "id": "WpKJO8CSaC_G",
        "outputId": "5b137e28-b18f-459d-f87b-36f7e2831c8e"
      },
      "execution_count": null,
      "outputs": [
        {
          "output_type": "execute_result",
          "data": {
            "text/plain": [
              "datetime.datetime(2013, 10, 11, 0, 0)"
            ]
          },
          "metadata": {},
          "execution_count": 5
        }
      ]
    },
    {
      "cell_type": "code",
      "source": [
        "from datetime import datetime\n",
        "data_string = 'Thursday, 18 August 1977'\n",
        "data_datetime = datetime.strptime(data_string, '%A, %d %B %Y')\n",
        "data_datetime"
      ],
      "metadata": {
        "colab": {
          "base_uri": "https://localhost:8080/"
        },
        "id": "9yvlrl66bDkF",
        "outputId": "25bf2934-052c-4ac0-9e2e-5eb8d504fd95"
      },
      "execution_count": null,
      "outputs": [
        {
          "output_type": "execute_result",
          "data": {
            "text/plain": [
              "datetime.datetime(1977, 8, 18, 0, 0)"
            ]
          },
          "metadata": {},
          "execution_count": 6
        }
      ]
    },
    {
      "cell_type": "markdown",
      "source": [
        "**Задание 2**\n",
        "Дан поток дат в формате YYYY-MM-DD, в которых встречаются некорректные значения:\n",
        "stream = [‘2018-04-02’, ‘2018-02-29’, ‘2018-19-02’]\n",
        "\n",
        "Напишите функцию, которая проверяет эти даты на корректность. Т. е. для каждой даты возвращает True (дата корректна) или False (некорректная дата)."
      ],
      "metadata": {
        "id": "N0a2GOLXspls"
      }
    },
    {
      "cell_type": "code",
      "source": [
        "from datetime import datetime\n",
        "stream = ['2018-04-02', '2018-02-29', '2018-19-02']\n",
        "\n",
        "def proverb():\n",
        "  for i in stream:\n",
        "    try:\n",
        "      data_datetime = datetime.strptime(i, '%Y-%m-%d')\n",
        "      print (i, True)\n",
        "    except ValueError:\n",
        "      print (i, False)\n",
        "    pass\n",
        "\n",
        "proverb()"
      ],
      "metadata": {
        "colab": {
          "base_uri": "https://localhost:8080/"
        },
        "outputId": "69c02b64-dd91-4de3-8393-e4b5f93c7996",
        "id": "Tkr39AQanDNa"
      },
      "execution_count": null,
      "outputs": [
        {
          "output_type": "stream",
          "name": "stdout",
          "text": [
            "2018-04-02 True\n",
            "2018-02-29 False\n",
            "2018-19-02 False\n"
          ]
        }
      ]
    },
    {
      "cell_type": "code",
      "source": [
        "from datetime import datetime\n",
        "stream = ['2018-04-02', '2018-02-29', '2018-19-02']\n",
        "\n",
        "for i in stream:\n",
        "  try:\n",
        "    data_datetime = datetime.strptime(i, '%Y-%m-%d')\n",
        "    print (data_datetime, True)\n",
        "  except ValueError:\n",
        "    print (i, False)\n",
        "    pass"
      ],
      "metadata": {
        "colab": {
          "base_uri": "https://localhost:8080/"
        },
        "id": "NPI6W_mTs0qu",
        "outputId": "fe729f7e-0100-493e-9fae-9548256a10c0"
      },
      "execution_count": null,
      "outputs": [
        {
          "output_type": "stream",
          "name": "stdout",
          "text": [
            "2018-04-02 00:00:00 True\n",
            "2018-02-29 False\n",
            "2018-19-02 False\n"
          ]
        }
      ]
    },
    {
      "cell_type": "markdown",
      "source": [
        "**Задание 3**\n",
        "Напишите функцию date_range, которая возвращает список дат за период от start_date до end_date. Даты должны вводиться в формате YYYY-MM-DD. В случае неверного формата или при start_date > end_date должен возвращаться пустой список."
      ],
      "metadata": {
        "id": "OZVNZqJfSlGq"
      }
    },
    {
      "cell_type": "code",
      "source": [
        "from datetime import datetime\n",
        "from datetime import timedelta\n",
        "\n",
        "start_date_string = input ('Введите первую дату в формате YYYY-MM-DD: ')\n",
        "end_date_string = input ('Введите первую дату в формате YYYY-MM-DD: ')\n",
        "\n",
        "def date_range():\n",
        "  list_date=[]\n",
        "  try:\n",
        "    start_date_datetime = datetime.strptime(start_date_string, '%Y-%m-%d')\n",
        "    end_date_datetime = datetime.strptime(end_date_string, '%Y-%m-%d')\n",
        "\n",
        "    while start_date_datetime <= end_date_datetime:\n",
        "      list_date.append(start_date_datetime.strftime('%Y-%m-%d'))\n",
        "      start_date_datetime += timedelta(days=1)\n",
        "    \n",
        "  except ValueError:\n",
        "    print ([])\n",
        "    pass\n",
        "\n",
        "  return list_date\n",
        "\n",
        "date_range()"
      ],
      "metadata": {
        "id": "0w7xdmggSzeP",
        "colab": {
          "base_uri": "https://localhost:8080/"
        },
        "outputId": "3df12b97-009c-4267-d178-ebdadc99d382"
      },
      "execution_count": null,
      "outputs": [
        {
          "name": "stdout",
          "output_type": "stream",
          "text": [
            "Введите первую дату в формате YYYY-MM-DD: 2022-01-01\n",
            "Введите первую дату в формате YYYY-MM-DD: 2019-01-01\n"
          ]
        },
        {
          "output_type": "execute_result",
          "data": {
            "text/plain": [
              "[]"
            ]
          },
          "metadata": {},
          "execution_count": 4
        }
      ]
    }
  ]
}