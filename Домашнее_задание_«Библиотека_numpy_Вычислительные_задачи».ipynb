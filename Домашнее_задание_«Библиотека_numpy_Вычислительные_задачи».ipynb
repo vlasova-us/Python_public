{
  "nbformat": 4,
  "nbformat_minor": 0,
  "metadata": {
    "colab": {
      "provenance": [],
      "authorship_tag": "ABX9TyMXXxnZvSMaZIqpK6cGnMET",
      "include_colab_link": true
    },
    "kernelspec": {
      "name": "python3",
      "display_name": "Python 3"
    },
    "language_info": {
      "name": "python"
    }
  },
  "cells": [
    {
      "cell_type": "markdown",
      "metadata": {
        "id": "view-in-github",
        "colab_type": "text"
      },
      "source": [
        "<a href=\"https://colab.research.google.com/github/vlasova-us/Python_public/blob/main/%D0%94%D0%BE%D0%BC%D0%B0%D1%88%D0%BD%D0%B5%D0%B5_%D0%B7%D0%B0%D0%B4%D0%B0%D0%BD%D0%B8%D0%B5_%C2%AB%D0%91%D0%B8%D0%B1%D0%BB%D0%B8%D0%BE%D1%82%D0%B5%D0%BA%D0%B0_numpy_%D0%92%D1%8B%D1%87%D0%B8%D1%81%D0%BB%D0%B8%D1%82%D0%B5%D0%BB%D1%8C%D0%BD%D1%8B%D0%B5_%D0%B7%D0%B0%D0%B4%D0%B0%D1%87%D0%B8%C2%BB.ipynb\" target=\"_parent\"><img src=\"https://colab.research.google.com/assets/colab-badge.svg\" alt=\"Open In Colab\"/></a>"
      ]
    },
    {
      "cell_type": "markdown",
      "source": [
        "**Задание 1**\n",
        "Создайте numpy array с элементами от числа N до 0 (например, для N = 10 это будет array([9, 8, 7, 6, 5, 4, 3, 2, 1, 0]))."
      ],
      "metadata": {
        "id": "HfinDi2bo913"
      }
    },
    {
      "cell_type": "code",
      "execution_count": null,
      "metadata": {
        "colab": {
          "base_uri": "https://localhost:8080/"
        },
        "id": "oymtd-Bfo45G",
        "outputId": "a0a9e883-2292-403d-cbfd-f7f4a1add048"
      },
      "outputs": [
        {
          "name": "stdout",
          "output_type": "stream",
          "text": [
            "Введите число: 10\n"
          ]
        },
        {
          "output_type": "execute_result",
          "data": {
            "text/plain": [
              "array([9, 8, 7, 6, 5, 4, 3, 2, 1, 0])"
            ]
          },
          "metadata": {},
          "execution_count": 30
        }
      ],
      "source": [
        "import numpy as np\n",
        "number_input = int (input (\"Введите число: \"))\n",
        "\n",
        "np.arange (0, number_input) [::-1]"
      ]
    },
    {
      "cell_type": "markdown",
      "source": [
        "**Задание 2**\n",
        "Создайте диагональную матрицу с элементами от N до 0. Посчитайте сумму ее значений на диагонали."
      ],
      "metadata": {
        "id": "HJZ9Vx34ul0m"
      }
    },
    {
      "cell_type": "code",
      "source": [
        "number_input = int (input (\"Введите число: \"))\n",
        "\n",
        "a = np.diag (np.arange (0, number_input) [::-1]) # создание диагональной матрицы с элементами от number_input до 0\n",
        "print (a)\n",
        "print (\"Сумма диагонали: \", sum (np.diagonal(a) ) ) # сумма диагонали"
      ],
      "metadata": {
        "colab": {
          "base_uri": "https://localhost:8080/"
        },
        "id": "YK0A3i2BuzZe",
        "outputId": "fa7a3dcc-7244-44b5-f467-06ba1f9dd15e"
      },
      "execution_count": null,
      "outputs": [
        {
          "output_type": "stream",
          "name": "stdout",
          "text": [
            "Введите число: 9\n",
            "[[8 0 0 0 0 0 0 0 0]\n",
            " [0 7 0 0 0 0 0 0 0]\n",
            " [0 0 6 0 0 0 0 0 0]\n",
            " [0 0 0 5 0 0 0 0 0]\n",
            " [0 0 0 0 4 0 0 0 0]\n",
            " [0 0 0 0 0 3 0 0 0]\n",
            " [0 0 0 0 0 0 2 0 0]\n",
            " [0 0 0 0 0 0 0 1 0]\n",
            " [0 0 0 0 0 0 0 0 0]]\n",
            "Сумма диагонали:  36\n"
          ]
        }
      ]
    },
    {
      "cell_type": "markdown",
      "source": [
        "**Задание 3**\n",
        "Решите систему уравнений:\n",
        "\n",
        "4x + 2y + z = 4\n",
        "\n",
        "x + 3y = 12\n",
        "\n",
        "5y + 4z = -3\n",
        "\n",
        "\n",
        "\n"
      ],
      "metadata": {
        "id": "_Uu36XQ90rEa"
      }
    },
    {
      "cell_type": "code",
      "source": [
        "from numpy import linalg\n",
        "\n",
        "left =  np.array ( [ [4, 2, 1], [1, 3, 0], [0, 5, 4] ] )\n",
        "right = np.array (   [4, 12, -3] )\n",
        "\n",
        "# np.linalg.inv (left). dot (right)\n",
        "linalg.solve (left, right)\n",
        "\n",
        "# np.allclose (np.dot (left, linalg.solve (left, right)), right)"
      ],
      "metadata": {
        "colab": {
          "base_uri": "https://localhost:8080/"
        },
        "id": "_mdyqFT61Ita",
        "outputId": "a286f4c1-aedf-46cf-910a-561ffbe9903b"
      },
      "execution_count": null,
      "outputs": [
        {
          "output_type": "execute_result",
          "data": {
            "text/plain": [
              "array([ 0.46666667,  3.84444444, -5.55555556])"
            ]
          },
          "metadata": {},
          "execution_count": 63
        }
      ]
    }
  ]
}