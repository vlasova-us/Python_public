{
  "nbformat": 4,
  "nbformat_minor": 0,
  "metadata": {
    "colab": {
      "provenance": [],
      "authorship_tag": "ABX9TyOJ1Wy2Ve3l8a08DM3f9S/s",
      "include_colab_link": true
    },
    "kernelspec": {
      "name": "python3",
      "display_name": "Python 3"
    },
    "language_info": {
      "name": "python"
    }
  },
  "cells": [
    {
      "cell_type": "markdown",
      "metadata": {
        "id": "view-in-github",
        "colab_type": "text"
      },
      "source": [
        "<a href=\"https://colab.research.google.com/github/vlasova-us/Python_public/blob/main/Parser_from_habr.ipynb\" target=\"_parent\"><img src=\"https://colab.research.google.com/assets/colab-badge.svg\" alt=\"Open In Colab\"/></a>"
      ]
    },
    {
      "cell_type": "markdown",
      "source": [
        "Функция поиска на сайте habr. В качестве параметра функция принимает список запросов для поиска (например, ['python', 'анализ данных']) и на основе материалов, попавших в результаты поиска по каждому запросу, возвращает датафрейм вида:\n",
        "\n",
        "<дата> - <заголовок> - <ссылка на материал>\n"
      ],
      "metadata": {
        "id": "H5jceYy66no2"
      }
    },
    {
      "cell_type": "code",
      "execution_count": 151,
      "metadata": {
        "id": "-c_Yun0C6lJf"
      },
      "outputs": [],
      "source": [
        "import time\n",
        "from datetime import datetime\n",
        "import pandas as pd\n",
        "import requests\n",
        "from bs4 import BeautifulSoup\n",
        "import re\n",
        "import numpy as np"
      ]
    },
    {
      "cell_type": "code",
      "source": [
        "def get_all_links(query, pages):\n",
        "  '''\n",
        "Функция принимает на вход список из поискового запроса(ов) (query) для поиска на сайте https://habr.com , а также глубину поиска (количество поисковых страниц), которую необходимо вывести (pages).\n",
        "Функция возвращает список из ссылок.\n",
        "\n",
        "  '''\n",
        "  url = 'https://habr.com/ru/search/'\n",
        "  all_links = []\n",
        "  links_list = []\n",
        "  params = {'q': query, 'target_type': 'posts','order':'date'}\n",
        "\n",
        "  for i in range(1, pages+1):\n",
        "    if i == 1:\n",
        "      req = requests.get(url, params)\n",
        "    else: req = requests.get((str(url) + str('page')+str(i)+'/'), params)\n",
        "\n",
        "    soup = BeautifulSoup (req.text)\n",
        "\n",
        "    time.sleep(0.33)\n",
        "\n",
        "    refs = soup.find_all('article', class_='tm-articles-list__item')\n",
        "\n",
        "    for ref in refs:\n",
        "      all_links.append(ref.find('a', 'tm-title__link').get('href'))\n",
        "      all_full_links = list(map(lambda x: 'https://habr.com' + x, all_links))   #Ссылки\n",
        "      links_list += all_full_links\n",
        "  return set(links_list)"
      ],
      "metadata": {
        "id": "IA8C6t2lyXZa"
      },
      "execution_count": 152,
      "outputs": []
    },
    {
      "cell_type": "code",
      "source": [
        "def search_habr (all_links):\n",
        "  '''\n",
        "Функция принимает на вход список из ссылок, полученных функцией get_all_links, от поискового запроса(ов) (query) для поиска на сайте https://habr.com\n",
        "Функция возвращает DataFrame из столбцов:\n",
        "- Дата опубликования статьи в datatime формате (колонка date)\n",
        "- Заголовок статьи (колонка title)\n",
        "- Ссылка на статью (колонка link)\n",
        "- Полный текст статьи (колонка text)\n",
        "- Количество лайков: общее кол-во, позитивные, негативные (колонка like)\n",
        "  '''\n",
        "  habr_articles_df=pd.DataFrame()\n",
        "  for link in all_links:\n",
        "    soup = BeautifulSoup(requests.get(link).text)\n",
        "    time.sleep(0.33)\n",
        "\n",
        "    date = pd.to_datetime (soup.find ('span', class_='tm-article-datetime-published').find('time').get('datetime')) #Дата в формате Datetime\n",
        "\n",
        "    if soup.find ('h1', class_='tm-title tm-title_h1'): #Заголовок.\n",
        "     title = soup.find ('h1', class_='tm-title tm-title_h1').find('span').text\n",
        "    else: title = np.nan\n",
        "\n",
        "    if soup.find('div', class_='article-formatted-body article-formatted-body article-formatted-body_version-2'): #Полный текст\n",
        "      text = soup.find('div', class_='article-formatted-body article-formatted-body article-formatted-body_version-2').text.strip().replace('\\n', '')\n",
        "    elif soup.find('div', class_='article-formatted-body article-formatted-body article-formatted-body_version-1'):\n",
        "       text = soup.find('div', class_='article-formatted-body article-formatted-body article-formatted-body_version-1').text.strip().replace('\\n', '')\n",
        "    else: text = np.nan\n",
        "\n",
        "    row = {'date': date, 'title': title, 'link': link, 'text': text}\n",
        "    habr_articles_df = pd.concat ([habr_articles_df, pd.DataFrame([row]) ] ) #  Объединение в DataFrame всех строк\n",
        "    habr_articles_df ['date'] = pd.to_datetime(habr_articles_df ['date']).apply(lambda x: x.date()) #Убираем TimeZone, чтобы прошла выгрузка в Excel\n",
        "\n",
        "\n",
        "\n",
        "  return habr_articles_df.reset_index (drop = True)\n"
      ],
      "metadata": {
        "id": "DCbdv7IXOM-4"
      },
      "execution_count": 154,
      "outputs": []
    },
    {
      "cell_type": "code",
      "source": [
        "def main ():\n",
        "  query = input (\"Введите запрос: \")\n",
        "  pages = int(input (\"Введите количество страниц поиска: \") )\n",
        "  all_links = get_all_links(query, pages)\n",
        "  habr_ = search_habr (all_links)\n",
        "  # display(habr_)\n",
        "  habr_.to_excel('./result_search.xlsx')\n",
        ""
      ],
      "metadata": {
        "id": "ooFjrqF7lNnX"
      },
      "execution_count": 158,
      "outputs": []
    },
    {
      "cell_type": "code",
      "source": [
        "main()"
      ],
      "metadata": {
        "colab": {
          "base_uri": "https://localhost:8080/"
        },
        "id": "cTsfoDJhmpUv",
        "outputId": "1b046c2f-1001-44fe-9b95-85b91f6cf238"
      },
      "execution_count": 159,
      "outputs": [
        {
          "name": "stdout",
          "output_type": "stream",
          "text": [
            "Введите запрос: dwh\n",
            "Введите количество страниц поиска: 5\n"
          ]
        }
      ]
    }
  ]
}